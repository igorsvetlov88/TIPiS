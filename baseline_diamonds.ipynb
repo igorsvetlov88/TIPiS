{
 "cells": [
  {
   "cell_type": "code",
   "execution_count": 15,
   "id": "7209a469",
   "metadata": {},
   "outputs": [],
   "source": [
    "import pandas as pd\n",
    "import numpy as np\n",
    "from sklearn.model_selection import train_test_split, cross_val_score\n",
    "from sklearn.preprocessing import StandardScaler, LabelEncoder, MinMaxScaler\n",
    "from sklearn.linear_model import LinearRegression\n",
    "from sklearn.metrics import r2_score, mean_squared_error\n",
    "import warnings\n",
    "import joblib\n",
    "warnings.filterwarnings('ignore')"
   ]
  },
  {
   "cell_type": "code",
   "execution_count": 16,
   "id": "24c42549",
   "metadata": {},
   "outputs": [],
   "source": [
    "df = pd.read_csv('diamonds_train.csv')"
   ]
  },
  {
   "cell_type": "code",
   "execution_count": 17,
   "id": "b1eb6191",
   "metadata": {},
   "outputs": [
    {
     "name": "stdout",
     "output_type": "stream",
     "text": [
      "<class 'pandas.core.frame.DataFrame'>\n",
      "RangeIndex: 43018 entries, 0 to 43017\n",
      "Data columns (total 10 columns):\n",
      " #   Column   Non-Null Count  Dtype  \n",
      "---  ------   --------------  -----  \n",
      " 0   carat    43018 non-null  float64\n",
      " 1   cut      43018 non-null  object \n",
      " 2   color    43018 non-null  object \n",
      " 3   clarity  43018 non-null  object \n",
      " 4   depth    43018 non-null  float64\n",
      " 5   table    43018 non-null  float64\n",
      " 6   price    43018 non-null  int64  \n",
      " 7   x        43018 non-null  float64\n",
      " 8   y        43018 non-null  float64\n",
      " 9   z        43018 non-null  float64\n",
      "dtypes: float64(6), int64(1), object(3)\n",
      "memory usage: 3.3+ MB\n"
     ]
    }
   ],
   "source": [
    "df.info()"
   ]
  },
  {
   "cell_type": "markdown",
   "id": "94aa927d",
   "metadata": {},
   "source": [
    "# Предварительная обработка данных"
   ]
  },
  {
   "cell_type": "code",
   "execution_count": 18,
   "id": "c0b756b3",
   "metadata": {},
   "outputs": [
    {
     "data": {
      "text/plain": [
       "'Пропущенных значений нет'"
      ]
     },
     "metadata": {},
     "output_type": "display_data"
    },
    {
     "name": "stdout",
     "output_type": "stream",
     "text": [
      "cut: ['Fair', 'Good', 'Ideal', 'Premium', 'Very Good']\n",
      "color: ['D', 'E', 'F', 'G', 'H', 'I', 'J']\n",
      "clarity: ['I1', 'IF', 'SI1', 'SI2', 'VS1', 'VS2', 'VVS1', 'VVS2']\n"
     ]
    }
   ],
   "source": [
    "# Проверяем пропущенные значения\n",
    "missing = df.isnull().sum()\n",
    "display(missing[missing > 0] if missing.sum() > 0 else \"Пропущенных значений нет\")\n",
    "\n",
    "# Проверяем категориальные переменные\n",
    "categorical_cols = ['cut', 'color', 'clarity']\n",
    "for col in categorical_cols:\n",
    "    if col in df.columns:\n",
    "        print(f\"{col}: {sorted(df[col].unique())}\")\n",
    "\n",
    "# Кодируем категориальные переменные\n",
    "label_encoders = {}\n",
    "for col in categorical_cols:\n",
    "    if col in df.columns:\n",
    "        le = LabelEncoder()\n",
    "        df[col + '_encoded'] = le.fit_transform(df[col])\n",
    "        label_encoders[col] = le\n"
   ]
  },
  {
   "cell_type": "markdown",
   "id": "9df4e425",
   "metadata": {},
   "source": [
    "## Подготовка признаков"
   ]
  },
  {
   "cell_type": "code",
   "execution_count": 19,
   "id": "5782d79c",
   "metadata": {},
   "outputs": [
    {
     "name": "stdout",
     "output_type": "stream",
     "text": [
      "Признаки для обучения (9): ['carat', 'depth', 'table', 'x', 'y', 'z', 'cut_encoded', 'color_encoded', 'clarity_encoded']\n",
      "Размеры: X (43018, 9), y (43018,)\n",
      "Статистика цены - среднее: $3,929.50, медиана: $2,401.00\n"
     ]
    }
   ],
   "source": [
    "# Определяем признаки для обучения\n",
    "feature_columns = []\n",
    "for col in df.columns:\n",
    "    if col != 'price' and col not in categorical_cols:\n",
    "        feature_columns.append(col)\n",
    "\n",
    "print(f\"Признаки для обучения ({len(feature_columns)}): {feature_columns}\")\n",
    "\n",
    "# Подготавливаем X и y\n",
    "X = df[feature_columns]\n",
    "y = df['price']\n",
    "\n",
    "print(f\"Размеры: X {X.shape}, y {y.shape}\")\n",
    "print(f\"Статистика цены - среднее: ${y.mean():,.2f}, медиана: ${y.median():,.2f}\")\n"
   ]
  },
  {
   "cell_type": "markdown",
   "id": "221999a4",
   "metadata": {},
   "source": [
    "## Разделение на train/test\n",
    "**ВАЖНО**: Разделение происходит ДО нормализации и стандартизации для предотвращения data leakage\n",
    "\n",
    "\n",
    "Данные традиционно разделяются на три независимых набора для корректной оценки\n",
    "модели. Обучающий набор используется для тренировки модели и составляет обычно\n",
    "60-80% данных. Валидационный набор (10-20%) служит для настройки гиперпараметров и выбора лучшей модели. Тестовый набор (10-20%) предоставляет\n",
    "беспристрастную оценку финальной производительности\n"
   ]
  },
  {
   "cell_type": "code",
   "execution_count": 20,
   "id": "25290f6f",
   "metadata": {},
   "outputs": [
    {
     "name": "stdout",
     "output_type": "stream",
     "text": [
      "Train: 34,414 образцов (80.0%)\n",
      "Test: 8,604 образцов (20.0%)\n"
     ]
    }
   ],
   "source": [
    "X_train, X_test, y_train, y_test = train_test_split(\n",
    "    X, y, \n",
    "    test_size=0.2, \n",
    "    random_state=42, \n",
    "    shuffle=True\n",
    ")\n",
    "\n",
    "print(f\"Train: {X_train.shape[0]:,} образцов ({X_train.shape[0]/len(X)*100:.1f}%)\")\n",
    "print(f\"Test: {X_test.shape[0]:,} образцов ({X_test.shape[0]/len(X)*100:.1f}%)\")\n"
   ]
  },
  {
   "cell_type": "markdown",
   "id": "d11f21a0",
   "metadata": {},
   "source": [
    "## Нормализация и стандартизация данных\n",
    "В реальных данных признаки имеют совершенно разные масштабы\n",
    "Проблема: алгоритмы машинного обучения воспринимают большие числа как \"более важные\". Признак \"зарплата\" будет доминировать над \"возрастом\" просто из-за масштаба чисел.\n",
    "\n",
    "Нормализация решает проблему разных масштабов (приводит к диапазону), а стандартизация решает проблему разных распределений (центрирует вокруг μ=0, σ=1). \n",
    "\n",
    "MinMaxScaler: $$ x_{norm} = \\frac{x - x_{min}}{x_{max} - x_{min}} $$\n",
    "StandardScaler: $$ z = \\frac{(x - μ)} {σ} $$"
   ]
  },
  {
   "cell_type": "code",
   "execution_count": 21,
   "id": "2bf2dbaf",
   "metadata": {},
   "outputs": [],
   "source": [
    "# Этап 1: Нормализация (приводим к диапазону [0,1])\n",
    "minmax_scaler = MinMaxScaler()\n",
    "X_train_norm = minmax_scaler.fit_transform(X_train)\n",
    "X_test_norm = minmax_scaler.transform(X_test)\n",
    "\n",
    "# Этап 2: Стандартизация нормализованных данных (μ=0, σ=1)\n",
    "standard_scaler = StandardScaler()\n",
    "X_train_scaled = standard_scaler.fit_transform(X_train_norm)\n",
    "X_test_scaled = standard_scaler.transform(X_test_norm)"
   ]
  },
  {
   "cell_type": "markdown",
   "id": "b2a526db",
   "metadata": {},
   "source": [
    "## Обучение модели"
   ]
  },
  {
   "cell_type": "code",
   "execution_count": 22,
   "id": "831a4048",
   "metadata": {},
   "outputs": [],
   "source": [
    "model = LinearRegression()\n",
    "model.fit(X_train_scaled, y_train)\n",
    "\n",
    "# Предсказания\n",
    "y_train_pred = model.predict(X_train_scaled)\n",
    "y_test_pred = model.predict(X_test_scaled)\n"
   ]
  },
  {
   "cell_type": "markdown",
   "id": "8a48d08f",
   "metadata": {},
   "source": [
    "### R² (коэффициент детерминации)\n",
    "\n",
    "$$ R^2 = 1 - \\frac{SS_{res}}{SS_{tot}} = 1 - \\frac{\\sum_{i=1}^{n} (y_i - \\hat{y}_i)^2}{\\sum_{i=1}^{n} (y_i - \\bar{y})^2} $$\n",
    "\n",
    "где:\n",
    "- $y_i$ — реальное значение\n",
    "- $ \\hat{y}_i $— предсказанное значение модели\n",
    "- $ \\bar{y} $ — среднее значение реальных данных\n",
    "- $ SS_{res} $ — сумма квадратов остатков (ошибки модели)\n",
    "- $ SS_{tot} $ — общая сумма квадратов (дисперсия данных)\n",
    "\n",
    "### RMSE (Root Mean Square Error)\n",
    "\n",
    "### Формула\n",
    "\n",
    "$$ RMSE = \\sqrt{\\frac{1}{n}\\sum_{i=1}^{n}(y_i - \\hat{y}_i)^2} = \\sqrt{MSE} $$\n",
    "\n",
    "где:\n",
    "- $ n $ — количество наблюдений\n",
    "- $ y_i $ — реальное значение i-го наблюдения\n",
    "- $ \\hat{y}_i $ — предсказанное значение i-го наблюдения\n",
    "- $ MSE $ — средняя квадратичная ошибка"
   ]
  },
  {
   "cell_type": "code",
   "execution_count": 23,
   "id": "95a6469f",
   "metadata": {},
   "outputs": [
    {
     "name": "stdout",
     "output_type": "stream",
     "text": [
      "МЕТРИКИ КАЧЕСТВА:\n",
      "R² Score - Train: 0.8892, Test: 0.8048\n",
      "RMSE - Train: $1,323.91, Test: $1,776.06\n",
      "Кросс-валидация R² (5-fold): 0.8778 (+/- 0.0479)\n",
      "Переобучение (разница R²): 0.0843\n"
     ]
    }
   ],
   "source": [
    "# Основные метрики\n",
    "train_r2 = r2_score(y_train, y_train_pred)\n",
    "test_r2 = r2_score(y_test, y_test_pred)\n",
    "train_rmse = np.sqrt(mean_squared_error(y_train, y_train_pred))\n",
    "test_rmse = np.sqrt(mean_squared_error(y_test, y_test_pred))\n",
    "\n",
    "print(\"МЕТРИКИ КАЧЕСТВА:\")\n",
    "print(f\"R² Score - Train: {train_r2:.4f}, Test: {test_r2:.4f}\")\n",
    "print(f\"RMSE - Train: ${train_rmse:,.2f}, Test: ${test_rmse:,.2f}\")\n",
    "\n",
    "# Кросс-валидация\n",
    "cv_scores = cross_val_score(model, X_train_scaled, y_train, cv=5, scoring='r2')\n",
    "print(f\"Кросс-валидация R² (5-fold): {cv_scores.mean():.4f} (+/- {cv_scores.std() * 2:.4f})\")\n",
    "\n",
    "overfitting = train_r2 - test_r2\n",
    "print(f\"Переобучение (разница R²): {overfitting:.4f}\")\n"
   ]
  },
  {
   "cell_type": "markdown",
   "id": "5686d63c",
   "metadata": {},
   "source": [
    "## Уравнение регрессии\n"
   ]
  },
  {
   "cell_type": "markdown",
   "id": "028e4d16",
   "metadata": {},
   "source": []
  },
  {
   "cell_type": "code",
   "execution_count": 24,
   "id": "eac61acf",
   "metadata": {},
   "outputs": [
    {
     "name": "stdout",
     "output_type": "stream",
     "text": [
      "Перехват: 3916.76\n",
      "Коэффициенты по важности:\n",
      "1. carat: +5504.2429\n",
      "2. x: -3567.7978\n",
      "3. y: +2050.2121\n",
      "4. clarity_encoded: +483.6076\n",
      "5. color_encoded: -459.0342\n",
      "6. depth: -212.5148\n",
      "7. table: -194.4420\n",
      "8. z: -80.9027\n",
      "9. cut_encoded: +56.1154\n",
      "УРАВНЕНИЕ: price = 3916.76 + 5504.2429*carat - 212.5148*depth - 194.4420*table - 3567.7978*x + 2050.2121*y - 80.9027*z + 56.1154*cut_encoded - 459.0342*color_encoded + 483.6076*clarity_encoded\n"
     ]
    }
   ],
   "source": [
    "print(f\"Перехват: {model.intercept_:.2f}\")\n",
    "\n",
    "# Коэффициенты по важности\n",
    "coef_importance = [(abs(coef), feature, coef) for feature, coef in zip(feature_columns, model.coef_)]\n",
    "coef_importance.sort(reverse=True)\n",
    "\n",
    "print(\"Коэффициенты по важности:\")\n",
    "for i, (abs_coef, feature, coef) in enumerate(coef_importance, 1):\n",
    "    print(f\"{i}. {feature}: {coef:+.4f}\")\n",
    "\n",
    "# Полное уравнение\n",
    "equation = f\"price = {model.intercept_:.2f}\"\n",
    "for feature, coef in zip(feature_columns, model.coef_):\n",
    "    if coef >= 0:\n",
    "        equation += f\" + {coef:.4f}*{feature}\"\n",
    "    else:\n",
    "        equation += f\" - {abs(coef):.4f}*{feature}\"\n",
    "\n",
    "print(f\"УРАВНЕНИЕ: {equation}\")\n"
   ]
  },
  {
   "cell_type": "markdown",
   "id": "aa698998",
   "metadata": {},
   "source": [
    "## Финальная модель для соревнований\n",
    "Обучаем на всех данных для максимального качества\n"
   ]
  },
  {
   "cell_type": "code",
   "execution_count": 25,
   "id": "3f3f20f9",
   "metadata": {},
   "outputs": [
    {
     "name": "stdout",
     "output_type": "stream",
     "text": [
      "R² на всех данных: 0.8884\n",
      "RMSE на всех данных: $1,331.61\n"
     ]
    },
    {
     "data": {
      "text/plain": [
       "['label_encoders.pkl']"
      ]
     },
     "execution_count": 25,
     "metadata": {},
     "output_type": "execute_result"
    }
   ],
   "source": [
    "# Шаг 1: Нормализация\n",
    "minmax_scaler = MinMaxScaler()\n",
    "X_norm = minmax_scaler.fit_transform(X)\n",
    "\n",
    "# Шаг 2: Стандартизация\n",
    "standard_scaler = StandardScaler() \n",
    "X_scaled = standard_scaler.fit_transform(X_norm)\n",
    "\n",
    "final_model = LinearRegression()\n",
    "final_model.fit(X_scaled, y)\n",
    "\n",
    "\n",
    "# Оценка модели\n",
    "predictions = final_model.predict(X_scaled)\n",
    "final_r2 = r2_score(y, predictions)\n",
    "final_rmse = np.sqrt(mean_squared_error(y, predictions))\n",
    "\n",
    "print(f\"R² на всех данных: {final_r2:.4f}\")\n",
    "print(f\"RMSE на всех данных: ${final_rmse:,.2f}\")\n",
    "\n",
    "# Сохранение всех компонентов\n",
    "joblib.dump(final_model, 'final_model.pkl')\n",
    "joblib.dump(minmax_scaler, 'minmax_scaler.pkl')\n",
    "joblib.dump(standard_scaler, 'standard_scaler.pkl') \n",
    "joblib.dump(label_encoders, 'label_encoders.pkl')"
   ]
  },
  {
   "cell_type": "markdown",
   "id": "cc17a31a",
   "metadata": {},
   "source": [
    "# Тестирование и сохранения файла для загрузки в соревнования"
   ]
  },
  {
   "cell_type": "code",
   "execution_count": 26,
   "id": "91215a79",
   "metadata": {},
   "outputs": [
    {
     "name": "stdout",
     "output_type": "stream",
     "text": [
      "   id  carat        cut color clarity  depth  table     x     y     z\n",
      "0   0   1.02       Good     F     SI2   59.2   58.0  6.51  6.56  3.87\n",
      "1   1   0.70  Very Good     I    VVS1   59.5   58.0  5.78  5.81  3.45\n",
      "2   2   0.32  Very Good     H    VVS2   63.4   56.0  4.37  4.34  2.76\n",
      "3   3   0.42      Ideal     F    VVS2   62.2   56.0  4.79  4.82  2.99\n",
      "4   4   0.40      Ideal     F     VS2   62.3   54.0  4.74  4.77  2.96\n"
     ]
    }
   ],
   "source": [
    "df_test = pd.read_csv('diamonds_test.csv')\n",
    "\n",
    "print(df_test.head())\n",
    "\n",
    "# Сохраняем id для submission\n",
    "test_ids = df_test['id'].copy()"
   ]
  },
  {
   "cell_type": "code",
   "execution_count": 27,
   "id": "714579b9",
   "metadata": {},
   "outputs": [],
   "source": [
    "# Кодируем\n",
    "for col in ['cut', 'color', 'clarity']:\n",
    "    df_test[col + '_encoded'] = label_encoders[col].transform(df_test[col])"
   ]
  },
  {
   "cell_type": "code",
   "execution_count": 29,
   "id": "1eca2e61",
   "metadata": {},
   "outputs": [],
   "source": [
    "#  признаки\n",
    "X_test = df_test[feature_columns]\n",
    "\n",
    "# 1. нормализация (MinMaxScaler)\n",
    "X_test_norm = minmax_scaler.fit_transform(X_test)\n",
    "# 2. стандартизация (StandardScaler)\n",
    "X_test_scaled = standard_scaler.fit_transform(X_test_norm)\n",
    "\n",
    "# Предсказываем\n",
    "predictions = final_model.predict(X_test_scaled)\n",
    "\n",
    "# Сохраняем submission\n",
    "df_result = pd.DataFrame({'id': df_test['id'], 'price': predictions})\n",
    "df_result.to_csv('submission.csv', index=False)\n"
   ]
  },
  {
   "cell_type": "code",
   "execution_count": null,
   "id": "6cb02d42",
   "metadata": {},
   "outputs": [],
   "source": []
  }
 ],
 "metadata": {
  "kernelspec": {
   "display_name": "ragbot-env",
   "language": "python",
   "name": "python3"
  },
  "language_info": {
   "codemirror_mode": {
    "name": "ipython",
    "version": 3
   },
   "file_extension": ".py",
   "mimetype": "text/x-python",
   "name": "python",
   "nbconvert_exporter": "python",
   "pygments_lexer": "ipython3",
   "version": "3.11.9"
  }
 },
 "nbformat": 4,
 "nbformat_minor": 5
}
